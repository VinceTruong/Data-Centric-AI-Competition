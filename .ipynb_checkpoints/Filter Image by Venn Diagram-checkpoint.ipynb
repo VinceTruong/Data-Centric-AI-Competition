{
 "cells": [
  {
   "cell_type": "code",
   "execution_count": 1,
   "metadata": {},
   "outputs": [],
   "source": [
    "import os\n",
    "import shutil"
   ]
  },
  {
   "cell_type": "code",
   "execution_count": 8,
   "metadata": {},
   "outputs": [],
   "source": [
    "# create folder to store images by venn diagram\n",
    "def createDir(path):\n",
    "    p = ['/0', '/1', '/2', '/0_1', '/0_2', '/1_2', '/All']\n",
    "    for p_ in p:\n",
    "        os.mkdir(path + p_)\n",
    "        os.mkdir(path + p_ + \"/images\")\n",
    "        os.mkdir(path + p_ + \"/labels\")\n",
    "    "
   ]
  },
  {
   "cell_type": "code",
   "execution_count": 23,
   "metadata": {},
   "outputs": [],
   "source": [
    "os.mkdir(\"./train\")\n",
    "createDir(\"./train\")\n",
    "\n",
    "os.mkdir(\"./val\")\n",
    "createDir(\"./val\")"
   ]
  },
  {
   "cell_type": "markdown",
   "metadata": {},
   "source": [
    "# Filter train set"
   ]
  },
  {
   "cell_type": "code",
   "execution_count": 10,
   "metadata": {},
   "outputs": [],
   "source": [
    "a1 = []\n",
    "a2 = []\n",
    "a3 = []\n",
    "a4 = []\n",
    "a5 = []\n",
    "a6 = []\n",
    "a7 = []"
   ]
  },
  {
   "cell_type": "code",
   "execution_count": 11,
   "metadata": {},
   "outputs": [],
   "source": [
    "def only(check, a1, a2, a3, i):\n",
    "    if (check[0] == 1):\n",
    "        a1.append(i)\n",
    "    elif (check[1] == 1):\n",
    "        a2.append(i)\n",
    "    else:\n",
    "        a3.append(i)\n",
    "        \n",
    "        \n",
    "def both(check, a4, a5, a6, i):\n",
    "    if (check[2] == 0):\n",
    "        a4.append(i)\n",
    "    elif (check[1] == 0):\n",
    "        a5.append(i)\n",
    "    else:\n",
    "        a6.append(i)"
   ]
  },
  {
   "cell_type": "code",
   "execution_count": 13,
   "metadata": {},
   "outputs": [],
   "source": [
    "# count number of images in each category\n",
    "path = \"./original/labels/train\"\n",
    "\n",
    "for i in range(1, 977):\n",
    "    if (i == 853):\n",
    "        continue\n",
    "    path_ = path + \"/\" + str(i) + '.txt'\n",
    "    f = open(path_)\n",
    "    #print(f.read())\n",
    "    line = f.readlines()\n",
    "    check = [0, 0, 0]\n",
    "    \n",
    "    for line_ in line:\n",
    "        u = line_.split(\" \")\n",
    "        if (u[0] == '0'):\n",
    "            check[0] = 1\n",
    "        elif (u[0] == '1'):\n",
    "            check[1] = 1\n",
    "        else:\n",
    "            check[2] = 1\n",
    "    \n",
    "    if (sum(check) == 1):\n",
    "        only(check, a1, a2, a3, i)\n",
    "    elif (sum(check) == 2):\n",
    "        both(check, a4, a5, a6, i)\n",
    "    else:\n",
    "        a7.append(i)\n",
    "    \n",
    "            \n",
    "    f.close()\n",
    "    "
   ]
  },
  {
   "cell_type": "code",
   "execution_count": 14,
   "metadata": {},
   "outputs": [
    {
     "name": "stdout",
     "output_type": "stream",
     "text": [
      "Train\n",
      "a1: 199\n",
      "a2: 531\n",
      "a3: 56\n",
      "a4: 134\n",
      "a5: 7\n",
      "a6: 38\n",
      "a7: 10\n"
     ]
    }
   ],
   "source": [
    "print(\"Train\")\n",
    "print(\"a1:\", len(a1))\n",
    "print(\"a2:\", len(a2))\n",
    "print(\"a3:\", len(a3))\n",
    "print(\"a4:\", len(a4))\n",
    "print(\"a5:\", len(a5))\n",
    "print(\"a6:\", len(a6))\n",
    "print(\"a7:\", len(a7))"
   ]
  },
  {
   "cell_type": "code",
   "execution_count": 24,
   "metadata": {},
   "outputs": [],
   "source": [
    "# copy to file\n",
    "\n",
    "def copyImg(set, original, target):\n",
    "    for i in original:\n",
    "        shutil.copy('./original/images/' + set + str(i) + \".jpg\", './' + set + target + \"/images/\")\n",
    "        shutil.copy('./original/labels/' + set + str(i) + \".txt\", './' + set + target + \"/labels/\")\n",
    "\n",
    "\n",
    "d = {'0/': a1, '1/': a2, '2/': a3, '0_1/': a4, '0_2/': a5, '1_2/': a6, 'All/': a7}\n",
    "for target, original in d.items():\n",
    "    copyImg(\"train/\", original, target)"
   ]
  },
  {
   "cell_type": "markdown",
   "metadata": {},
   "source": [
    "# Filter val set"
   ]
  },
  {
   "cell_type": "code",
   "execution_count": 25,
   "metadata": {},
   "outputs": [],
   "source": [
    "a1_ = []\n",
    "a2_ = []\n",
    "a3_ = []\n",
    "a4_ = []\n",
    "a5_ = []\n",
    "a6_ = []\n",
    "a7_ = []"
   ]
  },
  {
   "cell_type": "code",
   "execution_count": 26,
   "metadata": {},
   "outputs": [],
   "source": [
    "# count number of images in each category\n",
    "path = \"./original/labels/val\"\n",
    "\n",
    "for i in range(997, 1065):\n",
    "    path_ = path + \"/\" + str(i) + '.txt'\n",
    "    f = open(path_)\n",
    "    #print(f.read())\n",
    "    line = f.readlines()\n",
    "    check = [0, 0, 0]\n",
    "    \n",
    "    for line_ in line:\n",
    "        u = line_.split(\" \")\n",
    "        if (u[0] == '0'):\n",
    "            check[0] = 1\n",
    "        elif (u[0] == '1'):\n",
    "            check[1] = 1\n",
    "        else:\n",
    "            check[2] = 1\n",
    "    \n",
    "    if (sum(check) == 1):\n",
    "        only(check, a1_, a2_, a3_, i)\n",
    "    elif (sum(check) == 2):\n",
    "        both(check, a4_, a5_, a6_, i)\n",
    "    else:\n",
    "        a7_.append(i)\n",
    "    \n",
    "            \n",
    "    f.close()\n",
    "    "
   ]
  },
  {
   "cell_type": "code",
   "execution_count": 27,
   "metadata": {},
   "outputs": [
    {
     "name": "stdout",
     "output_type": "stream",
     "text": [
      "Val\n",
      "a1: 15\n",
      "a2: 24\n",
      "a3: 9\n",
      "a4: 17\n",
      "a5: 1\n",
      "a6: 1\n",
      "a7: 1\n"
     ]
    }
   ],
   "source": [
    "print(\"Val\")\n",
    "print(\"a1:\", len(a1_))\n",
    "print(\"a2:\", len(a2_))\n",
    "print(\"a3:\", len(a3_))\n",
    "print(\"a4:\", len(a4_))\n",
    "print(\"a5:\", len(a5_))\n",
    "print(\"a6:\", len(a6_))\n",
    "print(\"a7:\", len(a7_))"
   ]
  },
  {
   "cell_type": "code",
   "execution_count": 28,
   "metadata": {},
   "outputs": [],
   "source": [
    "d = {'0/': a1_, '1/': a2_, '2/': a3_, '0_1/': a4_, '0_2/': a5_, '1_2/': a6_, 'All/': a7_}\n",
    "for target, original in d.items():\n",
    "    copyImg(\"val/\", original, target)"
   ]
  },
  {
   "cell_type": "code",
   "execution_count": null,
   "metadata": {},
   "outputs": [],
   "source": []
  }
 ],
 "metadata": {
  "kernelspec": {
   "display_name": "Python 3",
   "language": "python",
   "name": "python3"
  },
  "language_info": {
   "codemirror_mode": {
    "name": "ipython",
    "version": 3
   },
   "file_extension": ".py",
   "mimetype": "text/x-python",
   "name": "python",
   "nbconvert_exporter": "python",
   "pygments_lexer": "ipython3",
   "version": "3.8.3"
  }
 },
 "nbformat": 4,
 "nbformat_minor": 4
}
