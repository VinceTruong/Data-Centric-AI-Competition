{
 "cells": [
  {
   "cell_type": "markdown",
   "metadata": {},
   "source": [
    "# Define constant variables"
   ]
  },
  {
   "cell_type": "code",
   "execution_count": 1,
   "metadata": {},
   "outputs": [],
   "source": [
    "# Define the name of new folder\n",
    "direct = \"new\"\n",
    "\n",
    "# Define function\n",
    "func = \"1/math.exp(-x)\"\n"
   ]
  },
  {
   "cell_type": "code",
   "execution_count": 2,
   "metadata": {},
   "outputs": [],
   "source": [
    "# Import Library\n",
    "import os\n",
    "import shutil\n",
    "import math\n",
    "import random\n",
    "import numpy as np\n",
    "import matplotlib.pyplot as plt\n",
    "\n",
    "from PIL import Image\n",
    "from tqdm import tqdm\n",
    "import imgaug as ia\n",
    "import imgaug.augmenters as iaa\n",
    "from imgaug.augmentables.bbs import BoundingBox, BoundingBoxesOnImage"
   ]
  },
  {
   "cell_type": "code",
   "execution_count": 3,
   "metadata": {},
   "outputs": [],
   "source": [
    "# Create Directory/Folder\n",
    "def MkDir(direct):\n",
    "    os.mkdir(\"./\" + direct)\n",
    "    os.mkdir(\"./\" + direct + \"/images\")\n",
    "    os.mkdir(\"./\" + direct + \"/images\" + \"/train\")\n",
    "    os.mkdir(\"./\" + direct + \"/images\" + \"/val\")\n",
    "    os.mkdir(\"./\" + direct + \"/labels\")\n",
    "    os.mkdir(\"./\" + direct + \"/labels\" + \"/train\")\n",
    "    os.mkdir(\"./\" + direct + \"/labels\" + \"/val\")\n",
    "    \n",
    "MkDir(direct)"
   ]
  },
  {
   "cell_type": "markdown",
   "metadata": {},
   "source": [
    "# Find coefficient for train and val sets"
   ]
  },
  {
   "cell_type": "code",
   "execution_count": 4,
   "metadata": {},
   "outputs": [],
   "source": [
    "class FindCoef:\n",
    "    def __init__(self, set, func):\n",
    "        self.set = set\n",
    "        self.func = func\n",
    "        self.a1 = [] # 0\n",
    "        self.a2 = [] # 1\n",
    "        self.a3 = [] # 2\n",
    "        self.a4 = [] # 0_1\n",
    "        self.a5 = [] # 0_2\n",
    "        self.a6 = [] # 1_2\n",
    "        self.a7 = [] # All\n",
    "        self.d = {\"0\": 0, \"1\": 0, \"2\": 0, \"0_1\": 0, \"0_2\": 0, \"1_2\": 0, \"All\": 0}\n",
    "        self.w = [0.3, 0.2, 0.5]\n",
    "        \n",
    "    \n",
    "    def OpenF(self, folder):\n",
    "        path = \"./\" + self.set + folder + \"/images\"\n",
    "        files = os.listdir(path)\n",
    "        A = [i.split('.')[0] for i in files]\n",
    "        return A\n",
    "        \n",
    "        \n",
    "    def findImg(self):\n",
    "        self.a1 = self.OpenF(\"0\")\n",
    "        self.a2 = self.OpenF(\"1\")\n",
    "        self.a3 = self.OpenF(\"2\")\n",
    "        self.a4 = self.OpenF(\"0_1\")\n",
    "        self.a5 = self.OpenF(\"0_2\")\n",
    "        self.a6 = self.OpenF(\"1_2\")\n",
    "        self.a7 = self.OpenF(\"All\")\n",
    "        \n",
    "        \n",
    "    def count(self, A, folder):\n",
    "        path = \"./\" + self.set + folder + \"/labels/\"\n",
    "        check = [0, 0, 0]\n",
    "        for i in A:\n",
    "            f = open(path + i + \".txt\")\n",
    "            line = f.readlines()\n",
    "\n",
    "            for line_ in line:\n",
    "                u = line_.split(\" \")\n",
    "                if (u[0] == '0'):\n",
    "                    check[0] += 1\n",
    "                elif (u[0] == '1'):\n",
    "                    check[1] += 1\n",
    "                else:\n",
    "                    check[2] += 1\n",
    "            f.close()\n",
    "        return check\n",
    "    \n",
    "    def f(self, x, func):\n",
    "        return eval(func)\n",
    "\n",
    "    def transform(self, w, func):\n",
    "        A = list(map(lambda w_ : self.f(w_, func), w))\n",
    "        A = list(map(lambda a : a / sum(A), A))\n",
    "        A = [round(i, 2) for i in A]\n",
    "        return A\n",
    "    \n",
    "    \n",
    "    def Matrix(self):\n",
    "        self.A = []\n",
    "        self.A += [self.count(self.a1, \"0\")]\n",
    "        self.A += [self.count(self.a2, \"1\")]\n",
    "        self.A += [self.count(self.a3, \"2\")]\n",
    "        self.A += [self.count(self.a4, \"0_1\")]\n",
    "        self.A += [self.count(self.a5, \"0_2\")]\n",
    "        self.A += [self.count(self.a6, \"1_2\")]\n",
    "        self.A += [self.count(self.a7, \"All\")]\n",
    "        self.A = np.array(self.A).T\n",
    "        self.A_ = self.A[0:2,2:]\n",
    "        self.p = self.transform(self.w, self.func)\n",
    "        \n",
    "        \n",
    "    def isValid(self, X, minError, train=True):\n",
    "        if not all([x > 0.5 for x in X.squeeze()]):\n",
    "            return False, -1, -1\n",
    "        maxError = max([abs(x-round(x)) for x in X.squeeze()])\n",
    "        if maxError > minError:\n",
    "            return False, -1, -1\n",
    "\n",
    "        X = np.array([round(x) for x in X.squeeze()])\n",
    "        numImg = int(sum(np.array(list(map(lambda a : len(a), [self.a1, self.a2, self.a3, self.a4, self.a5, self.a6, self.a7]))) * X))\n",
    "        if (numImg >= 3000*(0.8 if train else 0.1) or numImg <= (2100 if train else 240)):\n",
    "            return False, -1, -1\n",
    "\n",
    "        return True, numImg, maxError\n",
    "    \n",
    "        \n",
    "    def Coefficient(self):\n",
    "        cnt = 0\n",
    "        minError = 100000000000000000000000\n",
    "        h = 20\n",
    "        \n",
    "        # fix X(3,4,5,6,7)\n",
    "        x34567 = [np.array([0,0,x3,x4,x5,x6,x7], dtype=np.float32).reshape((7,1)) for x3 in range(1, h) for x4 in range(1, 10) for x5 in range(1, h) for x6 in range(1, 10) for x7 in range(1, h)]\n",
    "        for X in x34567:\n",
    "            r2 = np.dot(self.A, X)[2][0]\n",
    "            # B * R = C\n",
    "            B = np.array([[self.p[0]-1, self.p[0], self.p[0]],\n",
    "                          [self.p[1], self.p[1]-1, self.p[1]],\n",
    "                          [0,0,1]])\n",
    "            C = np.array([[0],[0],[r2]])\n",
    "            R = np.linalg.inv(B) @ C\n",
    "            \n",
    "            X12 = R[:-1,:] - (self.A_ @ X[2:,:])\n",
    "            X[0], X[1] = X12[0] / self.A[0][0], X12[1] / self.A[1][1]\n",
    "            \n",
    "            if (self.set == \"train/\"):\n",
    "                cond, numImg, maxError = self.isValid(X, minError)\n",
    "            else:\n",
    "                cond, numImg, maxError = self.isValid(X, minError, False)\n",
    "                \n",
    "            if cond:\n",
    "                cnt += 1\n",
    "                if maxError < minError:\n",
    "                    minError = maxError\n",
    "                    self.bestSolution = np.array([round(x) for x in X.squeeze()], dtype=\"int32\")\n",
    "                    self.bestNum = numImg\n",
    "\n",
    "        print(\"count:\", cnt)\n",
    "        print(\"Images:\", self.bestNum)\n",
    "        print(self.bestSolution)\n",
    "        \n",
    "        \n",
    "    def Save(self):\n",
    "        k = 0\n",
    "        for i in self.d.keys():\n",
    "            self.d[i] = self.bestSolution[k]\n",
    "            k += 1\n",
    "    \n",
    "    "
   ]
  },
  {
   "cell_type": "code",
   "execution_count": 5,
   "metadata": {},
   "outputs": [
    {
     "name": "stdout",
     "output_type": "stream",
     "text": [
      "train:\n",
      "count: 30\n",
      "Images: 2395\n",
      "[ 3  1 19  1  3  1  1]\n",
      "\n",
      "val:\n",
      "count: 51\n",
      "Images: 276\n",
      "[ 3  1 16  3  9  2  1]\n",
      "\n",
      "\n",
      "train: 89.67%\n",
      "val: 10.33%\n"
     ]
    }
   ],
   "source": [
    "# Find coefficient for train and val\n",
    "\n",
    "print(\"train:\")\n",
    "train = FindCoef(\"train/\", func)\n",
    "train.findImg()\n",
    "train.Matrix()\n",
    "train.Coefficient()\n",
    "\n",
    "print()\n",
    "\n",
    "print(\"val:\")\n",
    "val = FindCoef(\"val/\", func)\n",
    "val.findImg()\n",
    "val.Matrix()\n",
    "val.Coefficient()\n",
    "\n",
    "print(\"\\n\")\n",
    "total = train.bestNum + val.bestNum\n",
    "print(\"train: \", round(train.bestNum*100/total, 2), \"%\", sep=\"\")\n",
    "print(\"val: \", round(val.bestNum*100/total, 2), \"%\", sep=\"\")"
   ]
  },
  {
   "cell_type": "code",
   "execution_count": 6,
   "metadata": {},
   "outputs": [
    {
     "name": "stdout",
     "output_type": "stream",
     "text": [
      "Coef Train: {'0': 2, '1': 0, '2': 18, '0_1': 0, '0_2': 2, '1_2': 0, 'All': 0}\n",
      "Coef Val: {'0': 5, '1': 1, '2': 31, '0_1': 5, '0_2': 17, '1_2': 3, 'All': 1}\n"
     ]
    }
   ],
   "source": [
    "# Make sure train/val = 80/20\n",
    "\n",
    "val.bestSolution = val.bestSolution * math.ceil(2 / (val.bestNum * 10 / train.bestNum))\n",
    "val.bestNum *= math.ceil(2 / (val.bestNum * 10 / train.bestNum))\n",
    "\n",
    "train.bestSolution = train.bestSolution - 1\n",
    "val.bestSolution = val.bestSolution - 1\n",
    "\n",
    "train.Save()\n",
    "val.Save()\n",
    "\n",
    "print(\"Coef Train:\", train.d)\n",
    "print(\"Coef Val:\", val.d)\n",
    "\n"
   ]
  },
  {
   "cell_type": "markdown",
   "metadata": {},
   "source": [
    "# Augmentation"
   ]
  },
  {
   "cell_type": "code",
   "execution_count": 7,
   "metadata": {},
   "outputs": [],
   "source": [
    "def aug(num, path, cat, seq, k):\n",
    "    # image\n",
    "    image = np.asarray(Image.open(path + '/images' + \"/\" + num + '.jpg'))\n",
    "    H, W = image.shape[:2]\n",
    "    # label\n",
    "    bbs = []\n",
    "    with open(path + '/labels' + \"/\" + num + '.txt', 'r') as file:\n",
    "        for line_ in file:\n",
    "            line = line_.split(' ')\n",
    "            label = line[0]\n",
    "            xc, yc, w, h = [float(x) for x in line[1:]]\n",
    "            xc, yc, w, h = xc*W, yc*H, w*W, h*H\n",
    "\n",
    "            bbs.append(BoundingBox(x1=xc-w/2, y1=yc-h/2, x2=xc+w/2, y2=yc+h/2, label=label))\n",
    "\n",
    "    bbs = BoundingBoxesOnImage(bbs, shape=image.shape[:2])\n",
    "\n",
    "    # Augment BBs and images.\n",
    "    image_aug, bbs_aug = seq(image=image, bounding_boxes=bbs)\n",
    "\n",
    "    # clip off the outside label\n",
    "    bbs_aug = bbs_aug.remove_out_of_image().clip_out_of_image()\n",
    "        \n",
    "    # save image and label\n",
    "    # image with BBs before/after augmentation (shown below)\n",
    "    Image.fromarray(image_aug).save(\"./\" + direct + \"/images\" + cat + \"/\" + num + \"_\" + str(k) + '.jpg')\n",
    "    \n",
    "    # Copy\n",
    "    oldtxt = path + '/labels/' + num + '.txt'\n",
    "    newtxt = \"./\" + direct + \"/labels\" + cat + \"/\" + num + \"_\" + str(k) + '.txt'\n",
    "    shutil.copy(oldtxt, newtxt)\n",
    "    \n",
    "    # New size of image\n",
    "    H_, W_ = image_aug.shape[:2]\n",
    "    \n",
    "    # labels after aug\n",
    "    with open(\"./\" + direct + \"/labels\" + cat + \"/\" + num + \"_\" + str(k) + '.txt', 'w') as file:\n",
    "        for bb in bbs_aug:\n",
    "            x1, y1, x2, y2, label = bb.x1, bb.y1, bb.x2, bb.y2, bb.label\n",
    "            xc = ((x1+x2) / 2) / W_\n",
    "            yc = ((y1+y2) / 2) / H_\n",
    "            w  = (x2-x1) / W_\n",
    "            h  = (y2-y1) / H_\n",
    "            data = ' '.join([str(a) for a in [label, xc, yc, w, h]])\n",
    "            file.write(data + '\\n')\n"
   ]
  },
  {
   "cell_type": "code",
   "execution_count": 8,
   "metadata": {},
   "outputs": [],
   "source": [
    "seq1 = iaa.Sequential([  \n",
    "    # shift\n",
    "    iaa.Sometimes(\n",
    "        0.3,\n",
    "        iaa.KeepSizeByResize(iaa.Affine(\n",
    "            translate_px={\"x\": (-100,100), \"y\": (-100,100)},\n",
    "            fit_output = False\n",
    "        ))\n",
    "    ),\n",
    "    \n",
    "    # crop\n",
    "    iaa.Sometimes(\n",
    "        0.5,\n",
    "        iaa.Crop(percent=([0.05, 0.1], [0.1, 0.2], [0.05, 0.1], [0.1, 0.2]),\n",
    "             keep_size=True)\n",
    "    )\n",
    "    \n",
    "    \n",
    "], random_order=False) # apply augmenters in random order\n",
    "\n",
    "\n",
    "\n",
    "seq2 = iaa.Sequential([\n",
    "    seq1,\n",
    "    \n",
    "    # Strengthen or weaken the contrast in each image.\n",
    "    iaa.Sometimes(\n",
    "        0.5,\n",
    "        iaa.LinearContrast((0.75, 1.25))\n",
    "    ),\n",
    "\n",
    "    # Add gaussian noise.\n",
    "    iaa.Sometimes(\n",
    "        0.3,\n",
    "        iaa.AdditiveGaussianNoise(loc=0, scale=(0.0, 0.05*255), per_channel=0.5)\n",
    "    ),\n",
    "\n",
    "    # Make some images brighter and some darker.\n",
    "    iaa.Sometimes(\n",
    "        0.5,\n",
    "        iaa.Multiply((0.8, 1.3), per_channel=0.2)\n",
    "    ),\n",
    "    \n",
    "    # But we only blur about 75% of all images.\n",
    "    iaa.Sometimes(\n",
    "        0.3,\n",
    "        iaa.GaussianBlur(sigma=(0.0, 2))\n",
    "    ),\n",
    "    \n",
    "    # Apply affine transformations to each image.\n",
    "    # zoom\n",
    "    iaa.Sometimes(\n",
    "        0.5,\n",
    "        iaa.Affine(\n",
    "            scale={\"x\": (0.8, 1.2), \"y\": (0.8, 1.2)},\n",
    "            fit_output = True\n",
    "        )\n",
    "    ),\n",
    "\n",
    "    # cut out\n",
    "    iaa.Sometimes(\n",
    "        0.3,\n",
    "        iaa.Cutout(nb_iterations=(5, 20), size=0.025, squared=True)\n",
    "    ),\n",
    "\n",
    "    # rotate\n",
    "    iaa.Sometimes(\n",
    "       0.5,\n",
    "       iaa.Affine(\n",
    "       rotate=(-90,90),\n",
    "       fit_output = True\n",
    "       )\n",
    "    ),\n",
    "    \n",
    "    # flip\n",
    "    iaa.Sometimes(\n",
    "        0.5,\n",
    "        iaa.flip.Fliplr(1)\n",
    "    ),\n",
    "\n",
    "], random_order=True) # apply augmenters in random order\n",
    "\n",
    "\n",
    "seq3 = iaa.Sequential([  \n",
    "    seq2,\n",
    "    \n",
    "    iaa.Sometimes(\n",
    "        0.5,\n",
    "        iaa.Resize((0.5, 1.0))\n",
    "    ),\n",
    "    \n",
    "    \n",
    "    \n",
    "], random_order=False) # apply augmenters in random order"
   ]
  },
  {
   "cell_type": "code",
   "execution_count": 9,
   "metadata": {},
   "outputs": [
    {
     "name": "stderr",
     "output_type": "stream",
     "text": [
      "100%|████████████████████████████████████████████████████████████████████████████████| 199/199 [01:14<00:00,  2.68it/s]\n",
      "100%|███████████████████████████████████████████████████████████████████████████████| 531/531 [00:01<00:00, 305.64it/s]\n",
      "100%|██████████████████████████████████████████████████████████████████████████████████| 56/56 [02:19<00:00,  2.49s/it]\n",
      "100%|███████████████████████████████████████████████████████████████████████████████| 134/134 [00:00<00:00, 296.31it/s]\n",
      "100%|████████████████████████████████████████████████████████████████████████████████████| 7/7 [00:02<00:00,  3.07it/s]\n",
      "100%|█████████████████████████████████████████████████████████████████████████████████| 38/38 [00:00<00:00, 368.00it/s]\n",
      "100%|█████████████████████████████████████████████████████████████████████████████████| 10/10 [00:00<00:00, 305.46it/s]\n"
     ]
    }
   ],
   "source": [
    "# Augment train set\n",
    "for x, y in train.d.items():\n",
    "    files = os.listdir(\"./train/\" + x +\"/images\")\n",
    "    for i in tqdm(files):\n",
    "        num = i.split(\".\")[0]\n",
    "        \n",
    "        shutil.copy(\"./train/\" + x + \"/images/\" + i, \"./\" + direct + \"/images\" + \"/train\")\n",
    "        shutil.copy(\"./train/\" + x + \"/labels/\" + num + \".txt\", \"./\" + direct + \"/labels\" + \"/train\")\n",
    "        \n",
    "        for j in range(1, y+1):\n",
    "            #seq = choose_seq(seq_)\n",
    "            aug(num, \"./train/\" + x, \"/train\", seq2, j)\n",
    "            \n",
    "            path1 = \"./\" + direct + \"/labels\" + \"/train\" + \"/\" + num + \"_\" + str(j) + '.txt'\n",
    "        \n"
   ]
  },
  {
   "cell_type": "code",
   "execution_count": 10,
   "metadata": {},
   "outputs": [
    {
     "name": "stderr",
     "output_type": "stream",
     "text": [
      "100%|██████████████████████████████████████████████████████████████████████████████████| 15/15 [00:09<00:00,  1.64it/s]\n",
      "100%|██████████████████████████████████████████████████████████████████████████████████| 24/24 [00:02<00:00,  8.81it/s]\n",
      "100%|████████████████████████████████████████████████████████████████████████████████████| 9/9 [00:41<00:00,  4.57s/it]\n",
      "100%|██████████████████████████████████████████████████████████████████████████████████| 17/17 [00:15<00:00,  1.10it/s]\n",
      "100%|████████████████████████████████████████████████████████████████████████████████████| 1/1 [00:02<00:00,  2.47s/it]\n",
      "100%|████████████████████████████████████████████████████████████████████████████████████| 1/1 [00:03<00:00,  3.24s/it]\n",
      "100%|████████████████████████████████████████████████████████████████████████████████████| 1/1 [00:00<00:00,  1.18it/s]\n"
     ]
    }
   ],
   "source": [
    "# Augment val set\n",
    "for x, y in val.d.items():\n",
    "    files = os.listdir(\"./val/\" + x +\"/images\")\n",
    "    for i in tqdm(files):\n",
    "        num = i.split(\".\")[0]\n",
    "        \n",
    "        shutil.copy(\"./val/\" + x + \"/images/\" + i, \"./\" + direct + \"/images\" + \"/val\")\n",
    "        shutil.copy(\"./val/\" + x + \"/labels/\" + num + \".txt\", \"./\" + direct + \"/labels\" + \"/val\")\n",
    "        \n",
    "        for j in range(1, y+1):\n",
    "            #seq = choose_seq(seq_)\n",
    "            aug(num, \"./val/\" + x, \"/val\", seq3, j)\n",
    "        \n"
   ]
  },
  {
   "cell_type": "code",
   "execution_count": 11,
   "metadata": {},
   "outputs": [
    {
     "name": "stdout",
     "output_type": "stream",
     "text": [
      "Images train: True\n",
      "Labels train: True\n",
      "Images val: True\n",
      "Labels val: True\n"
     ]
    }
   ],
   "source": [
    "# Check number of images and labels are correct\n",
    "path = \"./\" + direct\n",
    "\n",
    "print(\"Images train:\", train.bestNum == len(os.listdir(path + \"/images/train\")))\n",
    "print(\"Labels train:\", train.bestNum == len(os.listdir(path + \"/labels/train\")))\n",
    "\n",
    "print(\"Images val:\", val.bestNum == len(os.listdir(path + \"/images/val\")))\n",
    "print(\"Labels val:\", val.bestNum == len(os.listdir(path + \"/labels/val\")))"
   ]
  },
  {
   "cell_type": "markdown",
   "metadata": {},
   "source": [
    "# Shuffle, Remove, Bias, Zip"
   ]
  },
  {
   "cell_type": "code",
   "execution_count": 12,
   "metadata": {},
   "outputs": [],
   "source": [
    "path = \"./\" + direct\n",
    "imgs = os.listdir(path + \"/images/train\")\n",
    "names = [img.split(\".\")[0] for img in imgs]"
   ]
  },
  {
   "cell_type": "code",
   "execution_count": 13,
   "metadata": {},
   "outputs": [
    {
     "name": "stderr",
     "output_type": "stream",
     "text": [
      "100%|██████████████████████████████████████████████████████████████████████████████| 2395/2395 [02:06<00:00, 18.96it/s]\n"
     ]
    }
   ],
   "source": [
    "# If the size of folder surpasses 500MB, kindly uncomment the code below and run it\n",
    "\n",
    "for name in tqdm(names):\n",
    "    img = Image.open(path + \"/images/train/\" + name + \".jpg\")\n",
    "    img.save(path + \"/images/train/\" + name + \"_0.jpg\", optimize=True)\n",
    "    os.remove(path + \"/images/train/\" + name + \".jpg\")\n",
    "    os.rename(path + \"/images/train/\" + name + \"_0.jpg\", path + \"/images/train/\" + name + \".jpg\")\n",
    "    img.close()"
   ]
  },
  {
   "cell_type": "code",
   "execution_count": 14,
   "metadata": {},
   "outputs": [
    {
     "name": "stdout",
     "output_type": "stream",
     "text": [
      "a: 1295092351\n",
      "b: 6054668326\n",
      "m: 524924142\n",
      "x: 4956792354\n"
     ]
    }
   ],
   "source": [
    "# Choose random constants\n",
    "a = random.randint(0, 10000000000)\n",
    "b = random.randint(0, 10000000000)\n",
    "m = random.randint(0, 10000000000)\n",
    "x = random.randint(0, 10000000000)\n",
    "\n",
    "print(\"a:\", a)\n",
    "print(\"b:\", b)\n",
    "print(\"m:\", m)\n",
    "print(\"x:\", x)"
   ]
  },
  {
   "cell_type": "code",
   "execution_count": 15,
   "metadata": {},
   "outputs": [
    {
     "name": "stderr",
     "output_type": "stream",
     "text": [
      "100%|████████████████████████████████████████████████████████████████████████████| 2395/2395 [00:00<00:00, 3406.96it/s]\n"
     ]
    }
   ],
   "source": [
    "# Shuffle train set\n",
    "for name in tqdm(names):\n",
    "    x = (a*x+b) % m\n",
    "    os.rename(path + \"/images/train/\" + name + \".jpg\", path + \"/images/train/\" + str(x) + \".jpg\")\n",
    "    os.rename(path + \"/labels/train/\" + name + \".txt\", path + \"/labels/train/\" + str(x) + \".txt\")"
   ]
  },
  {
   "cell_type": "code",
   "execution_count": 16,
   "metadata": {},
   "outputs": [
    {
     "name": "stdout",
     "output_type": "stream",
     "text": [
      "Remove 37 image(s) in train\n",
      "Remove 21 image(s) in val\n"
     ]
    }
   ],
   "source": [
    "# Remove zero label images in train and val set\n",
    "def findRemove(path, set, zero_label):\n",
    "    path_ = path + \"/labels/\" + set\n",
    "    li = os.listdir(path_)\n",
    "    for i in li:\n",
    "        path__ = path_ + i\n",
    "        f = open(path__)\n",
    "        line = f.readlines()\n",
    "        if (len(line) == 0):\n",
    "            zero_label.append(i.split(\".\")[0])\n",
    "        f.close()\n",
    "        \n",
    "    for i in zero_label:\n",
    "        os.remove(path + \"/images/\" + set + i + \".jpg\")\n",
    "        os.remove(path + \"/labels/\" + set + i + \".txt\")\n",
    "\n",
    "\n",
    "zero_train = []\n",
    "zero_val = []\n",
    "\n",
    "findRemove(path, \"train/\", zero_train)\n",
    "findRemove(path, \"val/\", zero_val)\n",
    "\n",
    "\n",
    "print(\"Remove\", len(zero_train), \"image(s) in train\")\n",
    "print(\"Remove\", len(zero_val), \"image(s) in val\")"
   ]
  },
  {
   "cell_type": "code",
   "execution_count": 17,
   "metadata": {},
   "outputs": [
    {
     "name": "stdout",
     "output_type": "stream",
     "text": [
      "RESULT\n",
      "Total train labels: 3101\n",
      "0: 903\t\t29.12%\n",
      "1: 1020\t\t32.89%\n",
      "2: 1178\t\t37.99%\n",
      "\n",
      "\n",
      "Total val labels: 727\n",
      "0: 224\t\t30.81%\n",
      "1: 206\t\t28.34%\n",
      "2: 297\t\t40.85%\n",
      "\n",
      "\n",
      "Expected\n",
      "0: 32.0%\n",
      "1: 29.0%\n",
      "2: 39.0%\n",
      "\n",
      "\n",
      "Images:\n",
      "train: 81.62\n",
      "train: 18.38\n"
     ]
    }
   ],
   "source": [
    "# Check Bias\n",
    "def Bias(array, p):\n",
    "    files = os.listdir(p)\n",
    "    check = [0, 0, 0]\n",
    "\n",
    "    for file in array:\n",
    "        f = open(p + str(file) + \".txt\")\n",
    "        line = f.readlines()\n",
    "\n",
    "        for line_ in line:\n",
    "            u = line_.split(\" \")\n",
    "            if (u[0] == '0'):\n",
    "                check[0] += 1\n",
    "            elif (u[0] == '1'):\n",
    "                check[1] += 1\n",
    "            else:\n",
    "                check[2] += 1\n",
    "        f.close()\n",
    "    return check\n",
    "        \n",
    "def result(check, sth=\"\"):\n",
    "    s = sum(check)\n",
    "    print(\"Total\", sth, \"labels:\", s)\n",
    "    print('0: ', check[0], '\\t\\t', round(check[0]*100/s, 2), '%', sep=\"\")\n",
    "    print('1: ', check[1], '\\t\\t', round(check[1]*100/s, 2), '%', sep=\"\")\n",
    "    print('2: ', check[2], '\\t\\t', round(check[2]*100/s, 2), '%', sep=\"\")\n",
    "    print(\"\\n\")\n",
    "    \n",
    "    \n",
    "path_ = path + \"/labels/\"\n",
    "\n",
    "a_t = os.listdir(path_ + \"train\")\n",
    "t = [i.split(\".\")[0] for i in a_t]\n",
    "a_v = os.listdir(path_ + \"val\")\n",
    "v = [i.split(\".\")[0] for i in a_v]\n",
    "\n",
    "t_ = np.array(Bias(t[:], path_ + \"train/\"))\n",
    "v_ = np.array(Bias(v[:], path_ + \"val/\"))\n",
    "\n",
    "print(\"RESULT\")\n",
    "result(t_, 'train')\n",
    "result(v_, 'val')\n",
    "\n",
    "print(\"Expected\")\n",
    "print(\"0: \", round(train.p[0]*100, 2), \"%\", sep=\"\")\n",
    "print(\"1: \", round(train.p[1]*100, 2), \"%\", sep=\"\")\n",
    "print(\"2: \", round(train.p[2]*100, 2), \"%\", sep=\"\")\n",
    "print(\"\\n\")\n",
    "\n",
    "# The result is a bit different from expected due to zero label images after augmentation\n",
    "\n",
    "print(\"Images:\")\n",
    "t__ = len(os.listdir(path_ + \"train/\"))\n",
    "v__ = len(os.listdir(path_ + \"val/\"))\n",
    "print(\"train:\", round(t__*100/(t__+v__), 2))\n",
    "print(\"train:\", round(v__*100/(t__+v__), 2))"
   ]
  },
  {
   "cell_type": "code",
   "execution_count": 18,
   "metadata": {},
   "outputs": [
    {
     "data": {
      "text/plain": [
       "'D:\\\\Anaconda\\\\A_Python\\\\Competition\\\\Data-Centric-AI-Competition\\\\new.zip'"
      ]
     },
     "execution_count": 18,
     "metadata": {},
     "output_type": "execute_result"
    }
   ],
   "source": [
    "# Make zip file\n",
    "shutil.make_archive(direct, 'zip', \"./\", direct)"
   ]
  },
  {
   "cell_type": "code",
   "execution_count": null,
   "metadata": {},
   "outputs": [],
   "source": []
  },
  {
   "cell_type": "code",
   "execution_count": null,
   "metadata": {},
   "outputs": [],
   "source": []
  },
  {
   "cell_type": "code",
   "execution_count": null,
   "metadata": {},
   "outputs": [],
   "source": []
  },
  {
   "cell_type": "code",
   "execution_count": null,
   "metadata": {},
   "outputs": [],
   "source": []
  },
  {
   "cell_type": "code",
   "execution_count": null,
   "metadata": {},
   "outputs": [],
   "source": []
  }
 ],
 "metadata": {
  "kernelspec": {
   "display_name": "Python 3",
   "language": "python",
   "name": "python3"
  },
  "language_info": {
   "codemirror_mode": {
    "name": "ipython",
    "version": 3
   },
   "file_extension": ".py",
   "mimetype": "text/x-python",
   "name": "python",
   "nbconvert_exporter": "python",
   "pygments_lexer": "ipython3",
   "version": "3.8.3"
  }
 },
 "nbformat": 4,
 "nbformat_minor": 4
}
